{
 "cells": [
  {
   "cell_type": "raw",
   "id": "c238366e-45cb-48cf-88cc-2a5aaba59429",
   "metadata": {},
   "source": [
    "Q1. How do you comment code in Python? What are the different types of comments?"
   ]
  },
  {
   "cell_type": "markdown",
   "id": "0e6d5898-e7ba-4d8a-ac2a-4196c86aca56",
   "metadata": {},
   "source": [
    "In Python, you can add comments to your code to provide explanations or context for yourself and others who might read the code. Python supports two main types of comments:\n",
    "\n",
    "1. Single-line comments: Single-line comments are used to add comments to a single line of code. You can create a single-line comment by using the hash symbol (#). Anything following the # on the same line is considered a comment and is ignored by the Python interpreter. \n",
    "\n",
    "2. Multi-line comments or docstrings: Python also allows multi-line comments, which are typically used for docstrings (documentation strings). Docstrings are used to provide documentation for functions, classes, and modules. They are enclosed in triple quotes (''' or \"\"\") and can span multiple lines. While they are not technically comments, they serve a similar purpose by providing documentation. "
   ]
  },
  {
   "cell_type": "raw",
   "id": "97529833-93eb-4cf5-b1dd-95fe634d6190",
   "metadata": {},
   "source": [
    "Q2. What are variables in Python? How do you declare and assign values to variables?"
   ]
  },
  {
   "cell_type": "markdown",
   "id": "5787cd3d-076d-4d85-8b8a-b05189cae8f1",
   "metadata": {},
   "source": [
    "In Python, variables are used to store data values. These data values can be of various types, such as numbers, strings, lists, and more. Variables serve as containers for holding and manipulating data within your program.\n",
    "\n",
    "Here's how you declare and assign values to variables in Python:\n",
    "\n",
    "1. **Variable Declaration:** In Python, you don't need to explicitly declare the data type of a variable. You simply create a variable by giving it a name. Variable names must follow certain rules:\n",
    "   - They must start with a letter (a-z, A-Z) or an underscore (_).\n",
    "   - The remaining characters in the variable name can include letters, numbers (0-9), and underscores.\n",
    "   - Variable names are case-sensitive, so \"myVar\" and \"myvar\" are treated as different variables.\n",
    "\n",
    "2. **Variable Assignment:** You can assign a value to a variable using the assignment operator `=`. The value on the right side of the `=` is assigned to the variable on the left side.\n",
    "\n"
   ]
  },
  {
   "cell_type": "raw",
   "id": "0b020457-8c14-4063-8802-e38c21c93b39",
   "metadata": {},
   "source": [
    "Q3. How do you convert one data type to another in Python?\n"
   ]
  },
  {
   "cell_type": "markdown",
   "id": "20d692aa-2c1a-4ee5-b604-1e222ccc08f7",
   "metadata": {},
   "source": [
    "In Python, you can convert one data type to another using a process called type casting or type conversion. Python provides built-in functions and techniques to perform these conversions. Here are some common ways to convert between data types:\n",
    "\n",
    "1. **Implicit Type Conversion (Coercion):** In many cases, Python can automatically convert one data type to another when required, based on the context of an operation. This is called implicit type conversion or coercion. For example, when you perform arithmetic operations between different numeric types, Python will perform implicit type conversion to ensure that the operation is valid:\n",
    "\n",
    "```python\n",
    "x = 5      # int\n",
    "y = 2.5    # float\n",
    "\n",
    "result = x + y  # Implicitly converts x to float before addition\n",
    "print(result)   # Output: 7.5\n",
    "```\n",
    "\n",
    "2. **Explicit Type Conversion (Type Casting):** You can explicitly convert one data type to another using built-in functions. Here are some common type casting functions:\n",
    "\n",
    "   - **int():** Converts a value to an integer data type.\n",
    "   \n",
    "   ```python\n",
    "   x = 5.7\n",
    "   int_x = int(x)\n",
    "   print(int_x)  # Output: 5\n",
    "   ```\n",
    "\n",
    "   - **float():** Converts a value to a floating-point data type.\n",
    "   \n",
    "   ```python\n",
    "   y = 10\n",
    "   float_y = float(y)\n",
    "   print(float_y)  # Output: 10.0\n",
    "   ```\n",
    "\n",
    "   - **str():** Converts a value to a string data type.\n",
    "   \n",
    "   ```python\n",
    "   z = 42\n",
    "   str_z = str(z)\n",
    "   print(str_z)  # Output: '42'\n",
    "   ```\n",
    "\n",
    "   - **list() and tuple():** Converts a sequence (e.g., a string or another list) to a list or tuple, respectively.\n",
    "   \n",
    "   ```python\n",
    "   my_string = \"Hello\"\n",
    "   list_string = list(my_string)\n",
    "   tuple_string = tuple(my_string)\n",
    "   print(list_string)   # Output: ['H', 'e', 'l', 'l', 'o']\n",
    "   print(tuple_string)  # Output: ('H', 'e', 'l', 'l', 'o')\n",
    "   ```\n",
    "\n",
    "   - **bool():** Converts a value to a boolean data type. Most values evaluate to `True`, except for certain \"falsy\" values like `0`, `None`, and empty containers (e.g., `[]`, `{}`).\n",
    "\n",
    "   ```python\n",
    "   x = 42\n",
    "   bool_x = bool(x)\n",
    "   print(bool_x)  # Output: True\n",
    "\n",
    "   y = 0\n",
    "   bool_y = bool(y)\n",
    "   print(bool_y)  # Output: False\n",
    "   ```\n",
    "\n",
    "\n"
   ]
  },
  {
   "cell_type": "raw",
   "id": "8252e132-bce0-43da-9f83-b2f7f55eb56e",
   "metadata": {},
   "source": [
    "Q4. How do you write and execute a Python script from the command line?"
   ]
  },
  {
   "cell_type": "markdown",
   "id": "9e7c445e-0b74-433d-9a84-b83ec0c88867",
   "metadata": {},
   "source": [
    "Writing and executing a Python script from the command line is a common way to run Python code outside of an integrated development environment (IDE) or code editor. Here are the steps to create and run a Python script from the command line:\n",
    "\n",
    "1. **Create a Python Script:**\n",
    "\n",
    "   Open a text editor (such as Notepad on Windows, TextEdit on macOS, or any code editor of your choice) and write your Python code. Save the file with a `.py` extension, which indicates that it's a Python script. For example, you can create a file named `my_script.py` and write your Python code in it.\n",
    "\n",
    "   Example `my_script.py`:\n",
    "   ```python\n",
    "   print(\"Hello, World!\")\n",
    "   ```\n",
    "\n",
    "2. **Open the Command Line Interface (CLI):**\n",
    "\n",
    "   Open your operating system's command prompt or terminal. The steps to open the command line interface vary depending on your operating system:\n",
    "\n",
    "   - **Windows:** You can open the Command Prompt by searching for \"cmd\" or \"Command Prompt\" in the Start menu.\n",
    "   - **macOS:** You can open the Terminal from the Applications folder or by searching for it in Spotlight.\n",
    "   - **Linux:** You can typically open a terminal by pressing `Ctrl + Alt + T` or by searching for \"Terminal\" in the applications menu.\n",
    "\n",
    "3. **Navigate to the Script's Directory:**\n",
    "\n",
    "   Use the `cd` command to navigate to the directory where your Python script is located. For example, if your script is on the desktop, you can navigate to the desktop directory like this (commands may vary slightly depending on your OS):\n",
    "\n",
    "   ```\n",
    "   cd Desktop\n",
    "   ```\n",
    "\n",
    "4. **Run the Python Script:**\n",
    "\n",
    "   To run the Python script, simply type `python` followed by the name of your script file (including the `.py` extension) and press Enter:\n",
    "\n",
    "   ```\n",
    "   python my_script.py\n",
    "   ```\n",
    "\n",
    "   If Python is installed correctly on your system, it will execute the script, and you will see the output in the command line:\n",
    "\n",
    "   ```\n",
    "   Hello, World!\n",
    "   ```\n",
    "\n",
    "   Your Python script has now been executed from the command line.\n",
    "\n",
    "Please note that you should have Python installed on your computer for this to work. Additionally, make sure that Python is added to your system's PATH environment variable during installation, so you can run Python from any directory without specifying its full path."
   ]
  },
  {
   "cell_type": "raw",
   "id": "26b9fca3-c3d7-4ff2-a2ea-6a98113b0f2a",
   "metadata": {},
   "source": [
    "Q5. Given a list my_list = [1, 2, 3, 4, 5], write the code to slice the list and obtain the sub-list [2, 3]."
   ]
  },
  {
   "cell_type": "code",
   "execution_count": 13,
   "id": "81539051-7a1e-497f-a4ce-5423ff63f5b3",
   "metadata": {},
   "outputs": [
    {
     "name": "stdout",
     "output_type": "stream",
     "text": [
      "[2, 3]\n"
     ]
    }
   ],
   "source": [
    "#Answer\n",
    "\n",
    "my_list = [1, 2, 3, 4, 5]\n",
    "\n",
    "# Using slicing to get the sub-list [2, 3]\n",
    "sub_list = my_list[1:3]\n",
    "\n",
    "print(sub_list)\n"
   ]
  },
  {
   "cell_type": "raw",
   "id": "ab7d1e8a-a7dd-489f-ab7b-320c45757c6f",
   "metadata": {},
   "source": [
    "Q6. What is a complex number in mathematics, and how is it represented in Python?"
   ]
  },
  {
   "cell_type": "markdown",
   "id": "6a0ae014-f03a-4aa5-ba9b-65a9b7d8cf83",
   "metadata": {},
   "source": [
    "In mathematics, a complex number is a number that can be expressed in the form `a + bi`, where `a` and `b` are real numbers, and `i` represents the imaginary unit. The imaginary unit `i` is defined as the square root of -1. Complex numbers are used to represent quantities that have both a real part and an imaginary part.\n",
    "\n",
    "Here's a breakdown of the components of a complex number:\n",
    "- `a` is the real part of the complex number.\n",
    "- `b` is the imaginary part of the complex number.\n",
    "- `i` is the imaginary unit, which satisfies the property `i^2 = -1`.\n",
    "\n",
    "For example, `3 + 4i` is a complex number where `3` is the real part, and `4i` is the imaginary part.\n",
    "\n",
    "In Python, complex numbers are represented using the `complex` data type, and they are created by using the `j` suffix to denote the imaginary unit. The general syntax to create a complex number in Python is as follows:\n",
    "\n",
    "```python\n",
    "z = a + bj\n",
    "```\n",
    "\n",
    "Here's an example of how you can create and work with complex numbers in Python:\n",
    "\n",
    "```python\n",
    "# Creating complex numbers\n",
    "z1 = 3 + 4j  # 3 is the real part, 4 is the imaginary part\n",
    "z2 = 1 - 2j  # 1 is the real part, -2 is the imaginary part\n",
    "\n",
    "# Performing arithmetic operations with complex numbers\n",
    "sum_result = z1 + z2\n",
    "difference_result = z1 - z2\n",
    "product_result = z1 * z2\n",
    "quotient_result = z1 / z2\n",
    "\n",
    "print(\"Sum:\", sum_result)\n",
    "print(\"Difference:\", difference_result)\n",
    "print(\"Product:\", product_result)\n",
    "print(\"Quotient:\", quotient_result)\n",
    "```\n",
    "\n",
    "Output:\n",
    "```\n",
    "Sum: (4+2j)\n",
    "Difference: (2+6j)\n",
    "Product: (11+10j)\n",
    "Quotient: (0.5+2.5j)\n",
    "```\n",
    "\n",
    "In Python, you can perform arithmetic operations, such as addition, subtraction, multiplication, and division, with complex numbers just like you would with real numbers. Python's `cmath` module also provides various functions for working with complex numbers, such as calculating their magnitude, phase, and more."
   ]
  },
  {
   "cell_type": "raw",
   "id": "49c7fc5e-e886-4279-b4ed-828f833b8c4d",
   "metadata": {},
   "source": [
    "Q7. What is the correct way to declare a variable named age and assign the value 25 to it?"
   ]
  },
  {
   "cell_type": "markdown",
   "id": "ed7ca140-80a4-4882-83c4-d7feeea5ae9f",
   "metadata": {},
   "source": [
    "The correct way to declare a variable named `age` and assign the value `25` to it in Python is as follows:\n",
    "\n",
    "```python\n",
    "age = 25\n",
    "```\n",
    "\n",
    "In this code:\n",
    "\n",
    "- `age` is the variable name.\n",
    "- The `=` sign is the assignment operator, which assigns the value on the right side to the variable on the left side.\n",
    "- `25` is the value assigned to the `age` variable.\n",
    "\n",
    "After executing this code, the variable `age` will hold the value `25`, and you can use it in your Python program as needed."
   ]
  },
  {
   "cell_type": "raw",
   "id": "64d538c8-9d3f-4af8-9131-b614d560de6d",
   "metadata": {},
   "source": [
    "Q8. Declare a variable named price and assign the value 9.99 to it. What data type does this variable\n",
    "belong to?"
   ]
  },
  {
   "cell_type": "markdown",
   "id": "56a18135-569d-4652-ae6c-f00eafde965c",
   "metadata": {},
   "source": [
    "To declare a variable named `price` and assign the value `9.99` to it in Python, you can do the following:\n",
    "\n",
    "```python\n",
    "price = 9.99\n",
    "```\n",
    "\n",
    "In this code:\n",
    "\n",
    "- `price` is the variable name.\n",
    "- The `=` sign is the assignment operator, which assigns the value on the right side to the variable on the left side.\n",
    "- `9.99` is the value assigned to the `price` variable.\n",
    "\n",
    "The variable `price` belongs to the data type \"float.\" In Python, a value with a decimal point is considered a floating-point number, and the variable that holds such a value is of the data type \"float.\" In this case, `9.99` is a floating-point number, so the `price` variable is of type float."
   ]
  },
  {
   "cell_type": "raw",
   "id": "3940ec79-57c7-4487-9099-bc6278e6b4dd",
   "metadata": {},
   "source": [
    "Q9. Create a variable named name and assign your full name to it as a string. How would you print the\n",
    "value of this variable?"
   ]
  },
  {
   "cell_type": "markdown",
   "id": "2c1b1cb9-0bab-432b-a80a-8cea94d02313",
   "metadata": {},
   "source": [
    "To create a variable named `name` and assign your full name to it as a string in Python, you can do the following:\n",
    "\n",
    "\n",
    "```python\n",
    "name = \"Vivek Singh\"\n",
    "```\n",
    "\n",
    "And then print its value:\n",
    "\n",
    "```python\n",
    "print(name)\n",
    "```\n",
    "\n",
    "When you run this code, it will output:\n",
    "\n",
    "```\n",
    "Vivek Singh\n",
    "```\n"
   ]
  },
  {
   "cell_type": "raw",
   "id": "8f5a11bd-bb66-4f3a-acd6-7ec3fe9da2e8",
   "metadata": {},
   "source": [
    "Q10. Given the string \"Hello, World!\", extract the substring \"World\"."
   ]
  },
  {
   "cell_type": "code",
   "execution_count": 14,
   "id": "4071e4b5-92c0-48c6-8ba5-84ae89313a58",
   "metadata": {},
   "outputs": [
    {
     "name": "stdout",
     "output_type": "stream",
     "text": [
      "World\n"
     ]
    }
   ],
   "source": [
    "original_string = \"Hello, World!\"\n",
    "substring = original_string[7:12]\n",
    "print(substring)\n"
   ]
  },
  {
   "cell_type": "raw",
   "id": "fd918c51-ed43-4c96-8bfd-7ffe662ff378",
   "metadata": {},
   "source": [
    "Q11. Create a variable named \"is_student\" and assign it a boolean value indicating whether you are\n",
    "currently a student or not."
   ]
  },
  {
   "cell_type": "code",
   "execution_count": 15,
   "id": "979d1ee3-9eb4-4ec8-8dde-0c4974fc1e3a",
   "metadata": {},
   "outputs": [],
   "source": [
    "is_student = False"
   ]
  },
  {
   "cell_type": "code",
   "execution_count": 16,
   "id": "4ba68337-ac19-495e-bd78-92863d87b173",
   "metadata": {},
   "outputs": [
    {
     "data": {
      "text/plain": [
       "False"
      ]
     },
     "execution_count": 16,
     "metadata": {},
     "output_type": "execute_result"
    }
   ],
   "source": [
    "is_student #?"
   ]
  },
  {
   "cell_type": "code",
   "execution_count": null,
   "id": "86257fbb-e13f-4899-8321-0d879dea8657",
   "metadata": {},
   "outputs": [],
   "source": []
  }
 ],
 "metadata": {
  "kernelspec": {
   "display_name": "Python 3 (ipykernel)",
   "language": "python",
   "name": "python3"
  },
  "language_info": {
   "codemirror_mode": {
    "name": "ipython",
    "version": 3
   },
   "file_extension": ".py",
   "mimetype": "text/x-python",
   "name": "python",
   "nbconvert_exporter": "python",
   "pygments_lexer": "ipython3",
   "version": "3.10.8"
  }
 },
 "nbformat": 4,
 "nbformat_minor": 5
}
