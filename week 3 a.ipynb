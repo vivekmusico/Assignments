{
 "cells": [
  {
   "cell_type": "code",
   "execution_count": null,
   "id": "af6c8495-5912-4e38-b082-4d42cd97f358",
   "metadata": {},
   "outputs": [],
   "source": [
    "Q1. Which keyword is used to create a function? Create a function to return a list of odd numbers in the\n",
    "range of 1 to 25."
   ]
  },
  {
   "cell_type": "markdown",
   "id": "32339dd7-e544-407e-ab59-1eef54320f06",
   "metadata": {},
   "source": [
    "In Python, the keyword used to create a function is def. Here's a Python function that returns a list of odd numbers in the range of 1 to 25:"
   ]
  },
  {
   "cell_type": "code",
   "execution_count": 6,
   "id": "89d9e648-ebfc-43f0-9982-489c064241b5",
   "metadata": {},
   "outputs": [
    {
     "name": "stdout",
     "output_type": "stream",
     "text": [
      "[1, 3, 5, 7, 9, 11, 13, 15, 17, 19, 21, 23, 25]\n"
     ]
    }
   ],
   "source": [
    "def find_odd_numbers():\n",
    "    odd_numbers = []\n",
    "    for number in range(1, 26):\n",
    "        if number % 2 != 0:\n",
    "            odd_numbers.append(number)\n",
    "    return odd_numbers\n",
    "\n",
    "# Call the function to get the list of odd numbers\n",
    "odd_numbers_list = find_odd_numbers()\n",
    "print(odd_numbers_list)\n"
   ]
  },
  {
   "cell_type": "code",
   "execution_count": null,
   "id": "8b3bb06d-63cc-461e-a140-9519da68a75b",
   "metadata": {},
   "outputs": [],
   "source": [
    "Q2. Why *args and **kwargs is used in some functions? Create a function each for *args and **kwargs\n",
    "to demonstrate their use."
   ]
  },
  {
   "cell_type": "markdown",
   "id": "6f23db49-7425-4d5a-b679-b755711e86e8",
   "metadata": {},
   "source": [
    "In Python, *args and **kwargs are used in function definitions to allow you to pass a variable number of arguments to a function. They are often used when you want to create more flexible and generic functions that can handle different numbers of arguments or keyword arguments.\n",
    "\n",
    "*Using args:\n",
    "\n",
    "The *args parameter allows you to pass a variable number of non-keyword (positional) arguments to a function. These arguments are collected into a tuple inside the function.\n",
    "\n",
    "Here's a simple example:"
   ]
  },
  {
   "cell_type": "code",
   "execution_count": 10,
   "id": "76ba4435-6ac7-4e79-ba96-3636c25178ce",
   "metadata": {},
   "outputs": [
    {
     "data": {
      "text/plain": [
       "(1, 2, 3, 4, 'vivek', ['hello', 23, 47])"
      ]
     },
     "execution_count": 10,
     "metadata": {},
     "output_type": "execute_result"
    }
   ],
   "source": [
    "def test_args(*args):\n",
    "    return(args)\n",
    "\n",
    "test_args(1,2,3,4, 'vivek' , ['hello' ,23, 47])"
   ]
  },
  {
   "cell_type": "markdown",
   "id": "9f02b5e1-b442-402f-ab85-1f4888450543",
   "metadata": {},
   "source": [
    "**Using kwargs:\n",
    "\n",
    "The **kwargs parameter allows you to pass a variable number of keyword arguments (key-value pairs) to a function. These arguments are collected into a dictionary inside the function.\n",
    "\n",
    "Here's an example:"
   ]
  },
  {
   "cell_type": "code",
   "execution_count": 13,
   "id": "8d86ef2f-bf6f-4d94-9877-8632527b199a",
   "metadata": {},
   "outputs": [
    {
     "data": {
      "text/plain": [
       "{'a': [1, 2, 3, 4], 'Name': 'vivek', 'Number': 443434.323}"
      ]
     },
     "execution_count": 13,
     "metadata": {},
     "output_type": "execute_result"
    }
   ],
   "source": [
    "def test_kwargs(**kwargs):\n",
    "    return(kwargs)\n",
    "\n",
    "test_kwargs(a = [1,2,3,4], Name = 'vivek' , Number = 443434.323 )"
   ]
  },
  {
   "cell_type": "code",
   "execution_count": null,
   "id": "f154fa48-5c07-4b58-ad63-42148d47c1db",
   "metadata": {},
   "outputs": [],
   "source": [
    "Q3. What is an iterator in python? Name the method used to initialise the iterator object and the method\n",
    "used for iteration. Use these methods to print the first five elements of the given list [2, 4, 6, 8, 10, 12, 14,\n",
    "16, 18, 20]."
   ]
  },
  {
   "cell_type": "markdown",
   "id": "8ca2756c-2fd0-43e5-9425-aac6925c50bd",
   "metadata": {},
   "source": [
    "In Python, an iterator is an object that represents a stream of data. It is used to iterate (loop) through elements one at a time in a sequence, such as a list, tuple, or any other iterable object. Iterators are an integral part of Python's iteration protocol and are widely used in for loops, list comprehensions, and other iterable processing.\n",
    "\n",
    "To work with an iterator, you typically follow these steps:\n",
    "\n",
    "Initialization: You initialize an iterator object using the iter() method. This method takes an iterable (e.g., a list) as an argument and returns an iterator for that iterable.\n",
    "\n",
    "Iteration: You use the next() method to retrieve elements one by one from the iterator. The next() method advances the iterator to the next element in the sequence and returns it. When there are no more elements to iterate, it raises a StopIteration exception.\n",
    "\n",
    "Here's how you can use these methods to print the first five elements of the given list [2, 4, 6, 8, 10, 12, 14, 16, 18, 20]:\n",
    "\n",
    "python"
   ]
  },
  {
   "cell_type": "code",
   "execution_count": 14,
   "id": "d88be89c-8922-43fa-b9ef-fd9c940f7e45",
   "metadata": {},
   "outputs": [],
   "source": [
    "my_list = [2, 4, 6, 8, 10, 12, 14, 16, 18, 20]"
   ]
  },
  {
   "cell_type": "code",
   "execution_count": 16,
   "id": "653c6d09-d097-44c8-961d-f6825bd495ac",
   "metadata": {},
   "outputs": [
    {
     "name": "stdout",
     "output_type": "stream",
     "text": [
      "2\n",
      "4\n",
      "6\n",
      "8\n",
      "10\n"
     ]
    }
   ],
   "source": [
    "my_iterator = iter(my_list)\n",
    "for i in range(5):\n",
    "    print(next(my_iterator))"
   ]
  },
  {
   "cell_type": "code",
   "execution_count": null,
   "id": "817f9dff-aa97-455b-953a-7f9e88cacaf5",
   "metadata": {},
   "outputs": [],
   "source": [
    "Q4. What is a generator function in python? Why yield keyword is used? Give an example of a generator\n",
    "function."
   ]
  },
  {
   "cell_type": "markdown",
   "id": "9234f757-aa30-4a2d-bd43-d23ecc9c161b",
   "metadata": {},
   "source": [
    "A generator function in Python is a special type of function that allows you to create iterators in a more convenient and memory-efficient way. It is defined like a regular function but contains one or more yield statements. When a generator function is called, it returns a generator object, which can be iterated to produce a sequence of values lazily, one at a time, on-the-fly, without loading all the values into memory at once. This makes generators particularly useful for dealing with large datasets or infinite sequences.\n",
    "\n",
    "The yield keyword is used in a generator function to indicate where the function should yield (pause) its execution and produce a value to the caller. When the generator is iterated, the function will execute until it encounters a yield statement, at which point it will yield the value to the caller and pause its state. The next time the generator is iterated, it resumes execution right after the yield statement, maintaining its internal state.\n",
    "Here's an example of a simple generator function that generates a sequence of squared numbers"
   ]
  },
  {
   "cell_type": "code",
   "execution_count": 17,
   "id": "a86b6d70-a070-4225-985d-2c91bc85e0fe",
   "metadata": {},
   "outputs": [
    {
     "name": "stdout",
     "output_type": "stream",
     "text": [
      "0\n",
      "1\n",
      "4\n",
      "9\n",
      "16\n"
     ]
    }
   ],
   "source": [
    "def squares_generator(n):\n",
    "    for i in range(n):\n",
    "        yield i ** 2\n",
    "\n",
    "# Create a generator object\n",
    "squares = squares_generator(5)\n",
    "\n",
    "# Iterate and print the squared numbers\n",
    "for square in squares:\n",
    "    print(square)\n"
   ]
  },
  {
   "cell_type": "code",
   "execution_count": null,
   "id": "279655c7-7d15-42d5-a2b2-962be0c6aff9",
   "metadata": {},
   "outputs": [],
   "source": [
    "Q5. Create a generator function for prime numbers less than 1000. Use the next() method to print the\n",
    "first 20 prime numbers."
   ]
  },
  {
   "cell_type": "code",
   "execution_count": null,
   "id": "f926523e-b08a-4ad4-8e58-085d960baa55",
   "metadata": {},
   "outputs": [],
   "source": [
    "Q6. Write a python program to print the first 10 Fibonacci numbers using a while loop."
   ]
  },
  {
   "cell_type": "code",
   "execution_count": 20,
   "id": "e42362f4-178d-4bc6-9dba-a1977c2eb390",
   "metadata": {},
   "outputs": [],
   "source": [
    "def fib_num():\n",
    "    a,b = 0,1\n",
    "    while True:\n",
    "        yield a\n",
    "        a,b = b , a+b\n",
    "    "
   ]
  },
  {
   "cell_type": "code",
   "execution_count": 21,
   "id": "b9dab038-7bc3-498c-88ab-c068b7496f7f",
   "metadata": {},
   "outputs": [],
   "source": [
    "first_10 = fib_num()"
   ]
  },
  {
   "cell_type": "code",
   "execution_count": 22,
   "id": "5efca7ab-8b48-4d84-9de5-2ee55f7b2ef6",
   "metadata": {},
   "outputs": [
    {
     "name": "stdout",
     "output_type": "stream",
     "text": [
      "0\n",
      "1\n",
      "1\n",
      "2\n",
      "3\n",
      "5\n",
      "8\n",
      "13\n",
      "21\n",
      "34\n"
     ]
    }
   ],
   "source": [
    "for i in range(10):\n",
    "    print(next(first_10))"
   ]
  },
  {
   "cell_type": "code",
   "execution_count": null,
   "id": "566dbe65-3cd5-4742-95aa-d1efec9f226e",
   "metadata": {},
   "outputs": [],
   "source": [
    "Q7. Write a List Comprehension to iterate through the given string: ‘pwskills’.\n",
    "Expected output: ['p', 'w', 's', 'k', 'i', 'l', 'l', 's']"
   ]
  },
  {
   "cell_type": "code",
   "execution_count": 23,
   "id": "82adc32d-ffea-4625-94c6-7e030ab24e61",
   "metadata": {},
   "outputs": [
    {
     "name": "stdout",
     "output_type": "stream",
     "text": [
      "['p', 'w', 's', 'k', 'i', 'l', 'l', 's']\n"
     ]
    }
   ],
   "source": [
    "input_string = 'pwskills'\n",
    "output_list = [char for char in input_string]\n",
    "print(output_list)\n"
   ]
  },
  {
   "cell_type": "code",
   "execution_count": null,
   "id": "8cda7855-2b67-4446-a9e3-b5850f197083",
   "metadata": {},
   "outputs": [],
   "source": [
    "Q8. Write a python program to check whether a given number is Palindrome or not using a while loop."
   ]
  },
  {
   "cell_type": "code",
   "execution_count": null,
   "id": "22336e3a-7862-4518-9c5a-962bf091e227",
   "metadata": {},
   "outputs": [],
   "source": [
    "Q9. Write a code to print odd numbers from 1 to 100 using list comprehension."
   ]
  },
  {
   "cell_type": "code",
   "execution_count": 24,
   "id": "c90f840a-0397-4222-a9b3-4a8462e107c1",
   "metadata": {},
   "outputs": [
    {
     "name": "stdout",
     "output_type": "stream",
     "text": [
      "[1, 3, 5, 7, 9, 11, 13, 15, 17, 19, 21, 23, 25, 27, 29, 31, 33, 35, 37, 39, 41, 43, 45, 47, 49, 51, 53, 55, 57, 59, 61, 63, 65, 67, 69, 71, 73, 75, 77, 79, 81, 83, 85, 87, 89, 91, 93, 95, 97, 99]\n"
     ]
    }
   ],
   "source": [
    "# Create a list from 1 to 100 using list comprehension\n",
    "numbers = [x for x in range(1, 101)]\n",
    "\n",
    "# Filter out odd numbers using another list comprehension\n",
    "odd_numbers = [x for x in numbers if x % 2 != 0]\n",
    "\n",
    "# Print the list of odd numbers\n",
    "print(odd_numbers)\n"
   ]
  },
  {
   "cell_type": "code",
   "execution_count": null,
   "id": "17826ad9-7ee8-48bf-8774-633795d0b1f3",
   "metadata": {},
   "outputs": [],
   "source": []
  }
 ],
 "metadata": {
  "kernelspec": {
   "display_name": "Python 3 (ipykernel)",
   "language": "python",
   "name": "python3"
  },
  "language_info": {
   "codemirror_mode": {
    "name": "ipython",
    "version": 3
   },
   "file_extension": ".py",
   "mimetype": "text/x-python",
   "name": "python",
   "nbconvert_exporter": "python",
   "pygments_lexer": "ipython3",
   "version": "3.10.8"
  }
 },
 "nbformat": 4,
 "nbformat_minor": 5
}
