{
 "cells": [
  {
   "cell_type": "markdown",
   "id": "50dce7d8-3015-4539-ab84-021137497709",
   "metadata": {},
   "source": [
    "Q1. Create one variable containing following type of data:"
   ]
  },
  {
   "cell_type": "markdown",
   "id": "8fb67668-e90f-43e2-a264-d373a48db3e7",
   "metadata": {},
   "source": [
    "(i) string"
   ]
  },
  {
   "cell_type": "code",
   "execution_count": 2,
   "id": "5eb390a0-45bd-4587-a690-fe8a47d5e64e",
   "metadata": {},
   "outputs": [],
   "source": [
    "variable = \"Welcome to PW skills\""
   ]
  },
  {
   "cell_type": "code",
   "execution_count": 3,
   "id": "14426bfe-2bec-4d4d-bddf-097a2c385aae",
   "metadata": {},
   "outputs": [
    {
     "data": {
      "text/plain": [
       "'Welcome to PW skills'"
      ]
     },
     "execution_count": 3,
     "metadata": {},
     "output_type": "execute_result"
    }
   ],
   "source": [
    "variable"
   ]
  },
  {
   "cell_type": "markdown",
   "id": "a9c2b27a-fc47-42bd-a108-f19a6aca2c26",
   "metadata": {},
   "source": [
    "(ii) list"
   ]
  },
  {
   "cell_type": "code",
   "execution_count": 4,
   "id": "9f2570d3-2d85-47e1-ae2b-84ced09d4f49",
   "metadata": {},
   "outputs": [
    {
     "data": {
      "text/plain": [
       "[1, 2, 3, (5+6j), 'hello vivek', 22.334]"
      ]
     },
     "execution_count": 4,
     "metadata": {},
     "output_type": "execute_result"
    }
   ],
   "source": [
    "l1 = [1,2,3,5+6j, 'hello vivek', 22.334]\n",
    "l1"
   ]
  },
  {
   "cell_type": "markdown",
   "id": "c74e9683-21c2-4b45-821b-98233efbe176",
   "metadata": {},
   "source": [
    "(iii) float"
   ]
  },
  {
   "cell_type": "code",
   "execution_count": 5,
   "id": "1ac654f1-b7ab-4445-a0d7-1ed0d3d73cb5",
   "metadata": {},
   "outputs": [],
   "source": [
    "v1 = 3.45"
   ]
  },
  {
   "cell_type": "code",
   "execution_count": 6,
   "id": "59c87899-1db9-42f9-9acd-329e1874980a",
   "metadata": {},
   "outputs": [
    {
     "data": {
      "text/plain": [
       "3.45"
      ]
     },
     "execution_count": 6,
     "metadata": {},
     "output_type": "execute_result"
    }
   ],
   "source": [
    "v1"
   ]
  },
  {
   "cell_type": "markdown",
   "id": "05ccf485-57af-461e-9322-459cee27ea14",
   "metadata": {},
   "source": [
    "(iv) tuple"
   ]
  },
  {
   "cell_type": "code",
   "execution_count": 7,
   "id": "ac17a43b-21b3-4f17-85cc-569e0309db7a",
   "metadata": {},
   "outputs": [],
   "source": [
    "v2 = (1,2,'vivek','pw skills')"
   ]
  },
  {
   "cell_type": "code",
   "execution_count": 8,
   "id": "ef2256fc-49ba-4fc2-a8e8-88a311c75b95",
   "metadata": {},
   "outputs": [
    {
     "data": {
      "text/plain": [
       "(1, 2, 'vivek', 'pw skills')"
      ]
     },
     "execution_count": 8,
     "metadata": {},
     "output_type": "execute_result"
    }
   ],
   "source": [
    "v2"
   ]
  },
  {
   "cell_type": "markdown",
   "id": "15814a7d-2812-4e85-a350-4255d1b0272c",
   "metadata": {},
   "source": [
    "Q2. Given are some following variables containing data:\n",
    "(i) var1 = ‘ ‘\n",
    "(ii) var2 = ‘[ DS , ML , Python]’\n",
    "(iii) var3 = [ ‘DS’ , ’ML’ , ‘Python’ ]\n",
    "(iv) var4 = 1.\n",
    "What will be the data type of the above given variable."
   ]
  },
  {
   "cell_type": "raw",
   "id": "e4f045d7-777a-40b5-b018-892ea957ba44",
   "metadata": {},
   "source": [
    "1 = str\n",
    "2 = str|\n",
    "3 = list\n",
    "4 = float"
   ]
  },
  {
   "cell_type": "markdown",
   "id": "d06fcbdf-0e37-467e-a6e4-c9c7275ffce3",
   "metadata": {},
   "source": [
    "Q3. Explain the use of the following operators using an example:\n",
    "(i) /\n",
    "(ii) %\n",
    "(iii) //\n",
    "(iv) **"
   ]
  },
  {
   "cell_type": "raw",
   "id": "a7ebba8c-1268-41de-a4b9-10a65ca06760",
   "metadata": {},
   "source": [
    "(i) / (Division Operator):\n",
    "The / operator is used for division. It divides the left operand by the right operand and returns a floating-point number as the result. "
   ]
  },
  {
   "cell_type": "code",
   "execution_count": 11,
   "id": "f6c48a83-33d4-41b6-94b5-25d003713a48",
   "metadata": {},
   "outputs": [
    {
     "name": "stdout",
     "output_type": "stream",
     "text": [
      "3.3333333333333335\n"
     ]
    }
   ],
   "source": [
    "result = 10/3\n",
    "print(result)"
   ]
  },
  {
   "cell_type": "raw",
   "id": "82a1aa4a-ae9b-4e10-9973-66664034c7b3",
   "metadata": {},
   "source": [
    "(ii) % (Modulus Operator):\n",
    "The % operator is used for the modulus operation, which returns the remainder when the left operand is divided by the right operand."
   ]
  },
  {
   "cell_type": "code",
   "execution_count": 10,
   "id": "2d4e338a-836f-467a-a42a-679e747aa080",
   "metadata": {},
   "outputs": [
    {
     "name": "stdout",
     "output_type": "stream",
     "text": [
      "1\n"
     ]
    }
   ],
   "source": [
    "remainder = 10 % 3\n",
    "print(remainder)"
   ]
  },
  {
   "cell_type": "raw",
   "id": "a94b1c23-9306-4697-a1b0-8c2a9198fb86",
   "metadata": {},
   "source": [
    "(iii) // (Floor Division Operator):\n",
    "The // operator is used for floor division. It divides the left operand by the right operand and returns the largest integer less than or equal to the result."
   ]
  },
  {
   "cell_type": "code",
   "execution_count": 12,
   "id": "a17611a0-aa0d-4955-93b0-bf594dab0913",
   "metadata": {},
   "outputs": [
    {
     "name": "stdout",
     "output_type": "stream",
     "text": [
      "3\n"
     ]
    }
   ],
   "source": [
    "result = 10 // 3\n",
    "print(result)"
   ]
  },
  {
   "cell_type": "raw",
   "id": "ebb9210f-2eed-4bfb-b4b6-c04419b15f60",
   "metadata": {},
   "source": [
    "iv) ** (Exponentiation Operator):\n",
    "The ** operator is used for exponentiation. It raises the left operand to the power of the right operand."
   ]
  },
  {
   "cell_type": "code",
   "execution_count": 13,
   "id": "17f9a31f-f3e0-4ef5-b8d2-2237eb926ac7",
   "metadata": {},
   "outputs": [
    {
     "name": "stdout",
     "output_type": "stream",
     "text": [
      "8\n"
     ]
    }
   ],
   "source": [
    "result = 2**3\n",
    "print(result)"
   ]
  },
  {
   "cell_type": "markdown",
   "id": "8d4c90cc-7a58-470b-808c-8b2cb8423448",
   "metadata": {},
   "source": [
    "Q4. Create a list of length 10 of your choice containing multiple types of data. Using for loop print the\n",
    "element and its data type."
   ]
  },
  {
   "cell_type": "code",
   "execution_count": 27,
   "id": "22eebb75-0749-4d8b-941a-856f6b4f0033",
   "metadata": {},
   "outputs": [
    {
     "name": "stdout",
     "output_type": "stream",
     "text": [
      "Element : 1, Data Type : <class 'int'>\n",
      "Element : 2.5, Data Type : <class 'float'>\n",
      "Element : Hello, Data Type : <class 'str'>\n",
      "Element : True, Data Type : <class 'bool'>\n",
      "Element : [1, 2, 3], Data Type : <class 'list'>\n",
      "Element : (4, 5, 6), Data Type : <class 'tuple'>\n",
      "Element : {'name': 'Alice', 'age': 30}, Data Type : <class 'dict'>\n",
      "Element : {56, 34, 23}, Data Type : <class 'set'>\n",
      "Element : (7+3j), Data Type : <class 'complex'>\n",
      "Element : False, Data Type : <class 'bool'>\n"
     ]
    }
   ],
   "source": [
    "my_list = [1, 2.5, 'Hello', True, [1, 2, 3], (4, 5, 6), {'name': 'Alice', 'age': 30}, {23,34,56} , 7 + 3j, False]\n",
    "\n",
    "for i in my_list:\n",
    "    print(f\"Element : {i}, Data Type : {type(i)}\")"
   ]
  },
  {
   "cell_type": "markdown",
   "id": "ea4ca85c-e345-488e-b289-f97b668a42e9",
   "metadata": {},
   "source": [
    "Q5. Using a while loop, verify if the number A is purely divisible by number B and if so then how many\n",
    "times it can be divisible."
   ]
  },
  {
   "cell_type": "raw",
   "id": "ce0a3c3d-cced-4c0c-a643-ce7ba5b9ecb7",
   "metadata": {},
   "source": [
    "Ans : Unable to do quite hard for me"
   ]
  },
  {
   "cell_type": "markdown",
   "id": "15687e3b-8424-46ae-acc0-596820c4230a",
   "metadata": {},
   "source": [
    "Q6. Create a list containing 25 int type data. Using for loop and if-else condition print if the element is\n",
    "divisible by 3 or not."
   ]
  },
  {
   "cell_type": "code",
   "execution_count": 31,
   "id": "963e913a-933f-4b81-892d-54592e0a1eb6",
   "metadata": {},
   "outputs": [
    {
     "name": "stdout",
     "output_type": "stream",
     "text": [
      "12 is divisible by 3\n",
      "6 is divisible by 3\n",
      "9 is divisible by 3\n",
      "8 is not divisible by 3\n",
      "15 is divisible by 3\n",
      "7 is not divisible by 3\n",
      "27 is divisible by 3\n",
      "30 is divisible by 3\n",
      "21 is divisible by 3\n",
      "18 is divisible by 3\n",
      "11 is not divisible by 3\n",
      "4 is not divisible by 3\n",
      "33 is divisible by 3\n",
      "22 is not divisible by 3\n",
      "2 is not divisible by 3\n",
      "10 is not divisible by 3\n",
      "14 is not divisible by 3\n",
      "25 is not divisible by 3\n",
      "19 is not divisible by 3\n",
      "17 is not divisible by 3\n",
      "3 is divisible by 3\n",
      "13 is not divisible by 3\n",
      "1 is not divisible by 3\n",
      "5 is not divisible by 3\n",
      "16 is not divisible by 3\n"
     ]
    }
   ],
   "source": [
    "my_list = [12, 6, 9, 8, 15, 7, 27, 30, 21, 18, 11, 4, 33, 22, 2, 10, 14, 25, 19, 17, 3, 13, 1, 5, 16]\n",
    "\n",
    "for i in my_list:\n",
    "    if i % 3 == 0:\n",
    "        print(f\"{i} is divisible by 3\")\n",
    "    else :\n",
    "        print(f\"{i} is not divisible by 3\")"
   ]
  },
  {
   "cell_type": "markdown",
   "id": "441bcad3-ad74-43fc-a330-e1c10e585ca6",
   "metadata": {},
   "source": [
    "Q7. What do you understand about mutable and immutable data types? Give examples for both showing\n",
    "this property."
   ]
  },
  {
   "cell_type": "raw",
   "id": "005743cc-0515-45c3-a441-f015fee16d81",
   "metadata": {},
   "source": [
    "Ans : Mutable and immutable are two fundamental concepts in programming that describe how data types behave with respect to modification.\n",
    "\n",
    "Immutable Data Types:\n",
    "Immutable data types are those whose values cannot be changed after they are created. Any operation that appears to modify an immutable data type actually creates a new object with the modified value. Examples of immutable data types in Python include:"
   ]
  },
  {
   "cell_type": "code",
   "execution_count": 32,
   "id": "bc2213f0-024f-4b45-bbb0-5b94f14d920d",
   "metadata": {},
   "outputs": [
    {
     "name": "stdout",
     "output_type": "stream",
     "text": [
      "6\n",
      "5\n"
     ]
    }
   ],
   "source": [
    "#Integers (int): Integers are immutable. When you perform an operation on an integer,\n",
    "#it creates a new integer object with the result.\n",
    "\n",
    "x = 5\n",
    "y = x\n",
    "x = x+1\n",
    "print(x)\n",
    "print(y)"
   ]
  },
  {
   "cell_type": "code",
   "execution_count": 33,
   "id": "e63be87b-65b4-4bcf-970e-e2555859cba1",
   "metadata": {},
   "outputs": [
    {
     "name": "stdout",
     "output_type": "stream",
     "text": [
      "HelloWorld\n"
     ]
    }
   ],
   "source": [
    "#Strings (str): Strings are also immutable. \n",
    "#Any operation that appears to modify a string creates a new string with the modified value.\n",
    "\n",
    "s = \"Hello\"\n",
    "s = s + \"World\"\n",
    "print(s)"
   ]
  },
  {
   "cell_type": "code",
   "execution_count": 36,
   "id": "570e5356-9802-4420-aff7-41941f0cfdae",
   "metadata": {},
   "outputs": [
    {
     "ename": "AttributeError",
     "evalue": "'tuple' object has no attribute 'add'",
     "output_type": "error",
     "traceback": [
      "\u001b[0;31m---------------------------------------------------------------------------\u001b[0m",
      "\u001b[0;31mAttributeError\u001b[0m                            Traceback (most recent call last)",
      "Cell \u001b[0;32mIn[36], line 5\u001b[0m\n\u001b[1;32m      1\u001b[0m \u001b[38;5;66;03m#Tuples (tuple): Tuples are immutable sequences of elements. \u001b[39;00m\n\u001b[1;32m      2\u001b[0m \u001b[38;5;66;03m#Once a tuple is created, you cannot change its elements.\u001b[39;00m\n\u001b[1;32m      4\u001b[0m my_tuple \u001b[38;5;241m=\u001b[39m (\u001b[38;5;241m1\u001b[39m,\u001b[38;5;241m2\u001b[39m,\u001b[38;5;241m3\u001b[39m)\n\u001b[0;32m----> 5\u001b[0m \u001b[43mmy_tuple\u001b[49m\u001b[38;5;241;43m.\u001b[39;49m\u001b[43madd\u001b[49m(\u001b[38;5;241m4\u001b[39m)\n",
      "\u001b[0;31mAttributeError\u001b[0m: 'tuple' object has no attribute 'add'"
     ]
    }
   ],
   "source": [
    "#Tuples (tuple): Tuples are immutable sequences of elements. \n",
    "#Once a tuple is created, you cannot change its elements.\n",
    "\n",
    "my_tuple = (1,2,3)\n",
    "my_tuple.add(4)"
   ]
  },
  {
   "cell_type": "markdown",
   "id": "a26993c1-47af-4596-bbf2-9a7112fa88a0",
   "metadata": {},
   "source": [
    "Mutable Data Types:\n",
    "Mutable data types are those whose values can be changed after they are created. Operations that modify a mutable data type directly modify the existing object without creating a new one. Examples of mutable data types in Python include:\n",
    "\n"
   ]
  },
  {
   "cell_type": "code",
   "execution_count": 37,
   "id": "5f7687a8-2879-4af1-a385-0dab53975ecf",
   "metadata": {},
   "outputs": [
    {
     "name": "stdout",
     "output_type": "stream",
     "text": [
      "[1, 2, 3, 4]\n"
     ]
    }
   ],
   "source": [
    "#Lists (list): Lists are mutable. You can add, remove, or modify elements within a list.\n",
    "\n",
    "my_list = [1,2,3]\n",
    "my_list.append(4)\n",
    "print(my_list)"
   ]
  },
  {
   "cell_type": "code",
   "execution_count": 38,
   "id": "3f256dd9-5d17-49ec-908f-49d29d028847",
   "metadata": {},
   "outputs": [
    {
     "name": "stdout",
     "output_type": "stream",
     "text": [
      "{'name': 'vivek', 'surname': 'Singh'}\n"
     ]
    }
   ],
   "source": [
    "#Dictionaries (dict): Dictionaries are mutable mappings of keys to values. \n",
    "#You can add, remove, or update key-value pairs.\n",
    "\n",
    "my_dict = { 'name' : 'vivek' , 'surname' : 'Roy'}\n",
    "my_dict['surname'] = 'Singh'\n",
    "print(my_dict)"
   ]
  },
  {
   "cell_type": "code",
   "execution_count": 39,
   "id": "2f9c139d-f4c2-4c25-bbc3-a28dde7c191d",
   "metadata": {},
   "outputs": [
    {
     "name": "stdout",
     "output_type": "stream",
     "text": [
      "{1, 2, 3, 4}\n"
     ]
    }
   ],
   "source": [
    "#Sets (set): Sets are mutable collections of unique elements. \n",
    "#You can add or remove elements from a set.\n",
    "\n",
    "my_set = {1,2,3}\n",
    "my_set.add(4)\n",
    "print(my_set)"
   ]
  }
 ],
 "metadata": {
  "kernelspec": {
   "display_name": "Python 3 (ipykernel)",
   "language": "python",
   "name": "python3"
  },
  "language_info": {
   "codemirror_mode": {
    "name": "ipython",
    "version": 3
   },
   "file_extension": ".py",
   "mimetype": "text/x-python",
   "name": "python",
   "nbconvert_exporter": "python",
   "pygments_lexer": "ipython3",
   "version": "3.10.8"
  }
 },
 "nbformat": 4,
 "nbformat_minor": 5
}
